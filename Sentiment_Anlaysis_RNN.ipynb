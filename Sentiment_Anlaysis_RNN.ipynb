{
  "nbformat": 4,
  "nbformat_minor": 0,
  "metadata": {
    "colab": {
      "provenance": [],
      "gpuType": "T4"
    },
    "kernelspec": {
      "name": "python3",
      "display_name": "Python 3"
    },
    "language_info": {
      "name": "python"
    },
    "accelerator": "GPU"
  },
  "cells": [
    {
      "cell_type": "markdown",
      "source": [
        "1. Tokenization > interger encoding\n",
        "2. Tokenization >>Text to sequence\n",
        "3. Zero padding > post/pre\n",
        "4. Embedding (convert the data to dense vector)\n",
        "5. SimpleRNN\n",
        "6. Dense layer\n"
      ],
      "metadata": {
        "id": "AEKt7ms9z4cG"
      }
    },
    {
      "cell_type": "code",
      "execution_count": 1,
      "metadata": {
        "id": "p8W-ft8F5rRt"
      },
      "outputs": [],
      "source": [
        "import pandas as pd\n",
        "import numpy as np\n",
        "import matplotlib.pyplot as plt\n",
        "%matplotlib inline\n",
        "import seaborn as sns\n",
        "import warnings\n",
        "warnings.filterwarnings('ignore')\n"
      ]
    },
    {
      "cell_type": "code",
      "source": [
        "import tensorflow as tf\n",
        "from tensorflow import keras\n",
        "from keras.preprocessing.text import   Tokenizer\n",
        "from keras.utils import pad_sequences, plot_model\n",
        "\n",
        "!pip install visualkeras\n",
        "import visualkeras"
      ],
      "metadata": {
        "colab": {
          "base_uri": "https://localhost:8080/"
        },
        "id": "YXbTv3wR9cNV",
        "outputId": "0afeda97-95d5-48c2-fe96-9bc8721094ac"
      },
      "execution_count": 47,
      "outputs": [
        {
          "output_type": "stream",
          "name": "stdout",
          "text": [
            "Requirement already satisfied: visualkeras in /usr/local/lib/python3.10/dist-packages (0.0.2)\n",
            "Requirement already satisfied: pillow>=6.2.0 in /usr/local/lib/python3.10/dist-packages (from visualkeras) (9.4.0)\n",
            "Requirement already satisfied: numpy>=1.18.1 in /usr/local/lib/python3.10/dist-packages (from visualkeras) (1.23.5)\n",
            "Requirement already satisfied: aggdraw>=1.3.11 in /usr/local/lib/python3.10/dist-packages (from visualkeras) (1.3.18)\n"
          ]
        }
      ]
    },
    {
      "cell_type": "code",
      "source": [
        "from keras.datasets import imdb\n",
        "from keras import Sequential\n",
        "from keras.layers import Dense , SimpleRNN, Embedding, Flatten\n",
        "\n"
      ],
      "metadata": {
        "id": "3upKPT0D95yB"
      },
      "execution_count": 3,
      "outputs": []
    },
    {
      "cell_type": "code",
      "source": [
        "(x_train, y_train), (x_test, y_test)= imdb.load_data()\n",
        "\n",
        "#(X_train,y_train),(X_test,y_test) = imdb.load_data()"
      ],
      "metadata": {
        "colab": {
          "base_uri": "https://localhost:8080/"
        },
        "id": "K6Q4LYcJ-QX-",
        "outputId": "3d4df00c-6d4c-40fb-c649-e153fc65f2d0"
      },
      "execution_count": 4,
      "outputs": [
        {
          "output_type": "stream",
          "name": "stdout",
          "text": [
            "Downloading data from https://storage.googleapis.com/tensorflow/tf-keras-datasets/imdb.npz\n",
            "17464789/17464789 [==============================] - 0s 0us/step\n"
          ]
        }
      ]
    },
    {
      "cell_type": "code",
      "source": [
        "x_train[5]\n",
        "# the data is already encoded"
      ],
      "metadata": {
        "colab": {
          "base_uri": "https://localhost:8080/"
        },
        "id": "R5iuLPqq-aVv",
        "outputId": "f4e3e90f-68f7-4b73-dbbc-ee965ddb0ca1"
      },
      "execution_count": 5,
      "outputs": [
        {
          "output_type": "execute_result",
          "data": {
            "text/plain": [
              "[1,\n",
              " 778,\n",
              " 128,\n",
              " 74,\n",
              " 12,\n",
              " 630,\n",
              " 163,\n",
              " 15,\n",
              " 4,\n",
              " 1766,\n",
              " 7982,\n",
              " 1051,\n",
              " 43222,\n",
              " 32,\n",
              " 85,\n",
              " 156,\n",
              " 45,\n",
              " 40,\n",
              " 148,\n",
              " 139,\n",
              " 121,\n",
              " 664,\n",
              " 665,\n",
              " 10,\n",
              " 10,\n",
              " 1361,\n",
              " 173,\n",
              " 4,\n",
              " 749,\n",
              " 86588,\n",
              " 16,\n",
              " 3804,\n",
              " 8,\n",
              " 4,\n",
              " 226,\n",
              " 65,\n",
              " 12,\n",
              " 43,\n",
              " 127,\n",
              " 24,\n",
              " 15344,\n",
              " 10,\n",
              " 10]"
            ]
          },
          "metadata": {},
          "execution_count": 5
        }
      ]
    },
    {
      "cell_type": "code",
      "source": [
        "x_train.shape\n",
        "\n",
        "# we have 25k reviews"
      ],
      "metadata": {
        "colab": {
          "base_uri": "https://localhost:8080/"
        },
        "id": "hthW4lJc-dW7",
        "outputId": "84a53502-b79d-41e2-c574-ba2176f4bf0c"
      },
      "execution_count": 6,
      "outputs": [
        {
          "output_type": "execute_result",
          "data": {
            "text/plain": [
              "(25000,)"
            ]
          },
          "metadata": {},
          "execution_count": 6
        }
      ]
    },
    {
      "cell_type": "code",
      "source": [
        "x_test.shape"
      ],
      "metadata": {
        "colab": {
          "base_uri": "https://localhost:8080/"
        },
        "id": "Wn4Rec7f-lrp",
        "outputId": "f2ebc17e-0d01-4cdd-99d8-9e6d3b355c62"
      },
      "execution_count": 7,
      "outputs": [
        {
          "output_type": "execute_result",
          "data": {
            "text/plain": [
              "(25000,)"
            ]
          },
          "metadata": {},
          "execution_count": 7
        }
      ]
    },
    {
      "cell_type": "code",
      "source": [
        "y_train.shape"
      ],
      "metadata": {
        "colab": {
          "base_uri": "https://localhost:8080/"
        },
        "id": "Bi3j9z19-n5s",
        "outputId": "ee8020bf-4dbb-496c-8892-018191932fce"
      },
      "execution_count": 8,
      "outputs": [
        {
          "output_type": "execute_result",
          "data": {
            "text/plain": [
              "(25000,)"
            ]
          },
          "metadata": {},
          "execution_count": 8
        }
      ]
    },
    {
      "cell_type": "code",
      "source": [
        "len(x_train[0])"
      ],
      "metadata": {
        "colab": {
          "base_uri": "https://localhost:8080/"
        },
        "id": "SlO5CfOY-_0Z",
        "outputId": "34d19b89-f405-43ba-bcdd-724dc68918ef"
      },
      "execution_count": 9,
      "outputs": [
        {
          "output_type": "execute_result",
          "data": {
            "text/plain": [
              "218"
            ]
          },
          "metadata": {},
          "execution_count": 9
        }
      ]
    },
    {
      "cell_type": "code",
      "source": [
        "len(x_train[1])"
      ],
      "metadata": {
        "colab": {
          "base_uri": "https://localhost:8080/"
        },
        "id": "5saHnjM1_EUm",
        "outputId": "38cd8385-1cda-4d1c-b147-e2c6b34f0493"
      },
      "execution_count": 10,
      "outputs": [
        {
          "output_type": "execute_result",
          "data": {
            "text/plain": [
              "189"
            ]
          },
          "metadata": {},
          "execution_count": 10
        }
      ]
    },
    {
      "cell_type": "code",
      "source": [
        "# padding is required for all the reviews"
      ],
      "metadata": {
        "id": "TohmjKP__GXL"
      },
      "execution_count": 11,
      "outputs": []
    },
    {
      "cell_type": "code",
      "source": [
        "x_train= pad_sequences(x_train, padding='post',maxlen=100 )\n",
        "x_test= pad_sequences(x_test,  padding='post',maxlen=100)\n",
        "\n",
        "# when we dont give maxlen , the zero padding is given to match the max length of the sentence and it creates Sparse matrix"
      ],
      "metadata": {
        "id": "SzTqLsbX_JXI"
      },
      "execution_count": 12,
      "outputs": []
    },
    {
      "cell_type": "code",
      "source": [
        "len(x_train[0])"
      ],
      "metadata": {
        "colab": {
          "base_uri": "https://localhost:8080/"
        },
        "id": "IMlZPD1-Akfq",
        "outputId": "60148b7e-e5cc-4430-d851-f1655d193a1f"
      },
      "execution_count": 13,
      "outputs": [
        {
          "output_type": "execute_result",
          "data": {
            "text/plain": [
              "100"
            ]
          },
          "metadata": {},
          "execution_count": 13
        }
      ]
    },
    {
      "cell_type": "code",
      "source": [
        "len(x_train[5])"
      ],
      "metadata": {
        "colab": {
          "base_uri": "https://localhost:8080/"
        },
        "id": "zrts7jywAkh5",
        "outputId": "a402ed58-06cb-4645-cf19-9949b372122c"
      },
      "execution_count": 14,
      "outputs": [
        {
          "output_type": "execute_result",
          "data": {
            "text/plain": [
              "100"
            ]
          },
          "metadata": {},
          "execution_count": 14
        }
      ]
    },
    {
      "cell_type": "markdown",
      "source": [
        "#Build the Model using Simple RNN\n"
      ],
      "metadata": {
        "id": "jt9k-c0bX5cc"
      }
    },
    {
      "cell_type": "code",
      "source": [
        "model=Sequential()\n",
        "model.add(SimpleRNN(32, input_shape=(100, 1), return_sequences=False)) # output of hidden layer is not sent out when return_sequences is False as its many to one (classification)\n",
        "                                                                        # return_sequences is true then it will be many to many\n",
        "                                                                        # 100 is max lenth of words ,  input feature is 1\n",
        "                                                                        # 32 Units *1 input feature +32*32(feedback) +32 > 1088 params\n",
        "\n",
        "model.add(Dense(1, activation='sigmoid')) # 32* 1 +1 > 33 params\n",
        "model.summary()\n",
        "\n",
        "\n",
        "\n"
      ],
      "metadata": {
        "colab": {
          "base_uri": "https://localhost:8080/"
        },
        "id": "NiyYae6QAkkC",
        "outputId": "e1b2bfe1-9160-4f29-e6e2-0880c41d6fa6"
      },
      "execution_count": 15,
      "outputs": [
        {
          "output_type": "stream",
          "name": "stdout",
          "text": [
            "Model: \"sequential\"\n",
            "_________________________________________________________________\n",
            " Layer (type)                Output Shape              Param #   \n",
            "=================================================================\n",
            " simple_rnn (SimpleRNN)      (None, 32)                1088      \n",
            "                                                                 \n",
            " dense (Dense)               (None, 1)                 33        \n",
            "                                                                 \n",
            "=================================================================\n",
            "Total params: 1121 (4.38 KB)\n",
            "Trainable params: 1121 (4.38 KB)\n",
            "Non-trainable params: 0 (0.00 Byte)\n",
            "_________________________________________________________________\n"
          ]
        }
      ]
    },
    {
      "cell_type": "code",
      "source": [
        "model.compile(optimizer='adam', loss='binary_crossentropy', metrics=['accuracy'])\n",
        "model.fit(x_train, y_train, validation_data=(x_test, y_test), batch_size=32, epochs=5)"
      ],
      "metadata": {
        "colab": {
          "base_uri": "https://localhost:8080/"
        },
        "id": "gaxvIsA7Akmf",
        "outputId": "78f0f34b-b150-4262-c001-61a76aa15322"
      },
      "execution_count": 16,
      "outputs": [
        {
          "output_type": "stream",
          "name": "stdout",
          "text": [
            "Epoch 1/5\n",
            "782/782 [==============================] - 63s 73ms/step - loss: 0.6941 - accuracy: 0.5069 - val_loss: 0.6967 - val_accuracy: 0.4988\n",
            "Epoch 2/5\n",
            "782/782 [==============================] - 60s 77ms/step - loss: 0.6930 - accuracy: 0.5111 - val_loss: 0.6933 - val_accuracy: 0.5104\n",
            "Epoch 3/5\n",
            "782/782 [==============================] - 70s 90ms/step - loss: 0.6928 - accuracy: 0.5120 - val_loss: 0.6941 - val_accuracy: 0.5098\n",
            "Epoch 4/5\n",
            "782/782 [==============================] - 77s 98ms/step - loss: 0.6926 - accuracy: 0.5122 - val_loss: 0.6927 - val_accuracy: 0.5118\n",
            "Epoch 5/5\n",
            "782/782 [==============================] - 60s 77ms/step - loss: 0.6929 - accuracy: 0.5141 - val_loss: 0.6931 - val_accuracy: 0.5075\n"
          ]
        },
        {
          "output_type": "execute_result",
          "data": {
            "text/plain": [
              "<keras.src.callbacks.History at 0x7a96a7859ed0>"
            ]
          },
          "metadata": {},
          "execution_count": 16
        }
      ]
    },
    {
      "cell_type": "code",
      "source": [
        "#simple RNN used without embedding gives poor accuracy"
      ],
      "metadata": {
        "id": "G2HpH5WqAkot"
      },
      "execution_count": null,
      "outputs": []
    },
    {
      "cell_type": "markdown",
      "source": [
        "\n",
        "# Simple RNN with Embedding\n"
      ],
      "metadata": {
        "id": "BWKSilOiywS5"
      }
    },
    {
      "cell_type": "code",
      "source": [
        "x_train= pad_sequences(x_train, padding='post',maxlen=100 )\n",
        "x_test= pad_sequences(x_test,  padding='post',maxlen=100)"
      ],
      "metadata": {
        "id": "E9uoh-ueAkrc"
      },
      "execution_count": 17,
      "outputs": []
    },
    {
      "cell_type": "code",
      "source": [
        "x_train.shape"
      ],
      "metadata": {
        "colab": {
          "base_uri": "https://localhost:8080/"
        },
        "id": "Ap1pX3Q6854r",
        "outputId": "fa53dbf3-ab93-4116-ae12-8439c766f1f3"
      },
      "execution_count": 19,
      "outputs": [
        {
          "output_type": "execute_result",
          "data": {
            "text/plain": [
              "(25000, 100)"
            ]
          },
          "metadata": {},
          "execution_count": 19
        }
      ]
    },
    {
      "cell_type": "code",
      "source": [
        "model1=Sequential()\n",
        "model1.add(Embedding(10000,2, input_length=100)) #  ( vocab_size, outputdim, input length) > 10000*2> 20000 params\n",
        "# embedding will give dense vector of the input data. Here for every word/vector, we are getting 2 dimension vector\n",
        "model1.add(SimpleRNN(32, return_sequences=False )) # 32*2(input to neurons)+ 32*32(feedback)+32(bais) > 1120 params\n",
        "model1.add(Dense(1, activation='sigmoid'))# 33 params\n",
        "model1.summary()"
      ],
      "metadata": {
        "colab": {
          "base_uri": "https://localhost:8080/"
        },
        "id": "a2QpxA19Aku2",
        "outputId": "437111ad-3b45-4da1-93f2-73f891df1eaf"
      },
      "execution_count": 20,
      "outputs": [
        {
          "output_type": "stream",
          "name": "stdout",
          "text": [
            "Model: \"sequential_1\"\n",
            "_________________________________________________________________\n",
            " Layer (type)                Output Shape              Param #   \n",
            "=================================================================\n",
            " embedding (Embedding)       (None, 100, 2)            20000     \n",
            "                                                                 \n",
            " simple_rnn_1 (SimpleRNN)    (None, 32)                1120      \n",
            "                                                                 \n",
            " dense_1 (Dense)             (None, 1)                 33        \n",
            "                                                                 \n",
            "=================================================================\n",
            "Total params: 21153 (82.63 KB)\n",
            "Trainable params: 21153 (82.63 KB)\n",
            "Non-trainable params: 0 (0.00 Byte)\n",
            "_________________________________________________________________\n"
          ]
        }
      ]
    },
    {
      "cell_type": "code",
      "source": [
        "model1.compile(optimizer='adam', loss='binary_crossentropy', metrics=['accuracy'])\n",
        "model1.fit(x_train, y_train, validation_data=(x_test, y_test), epochs=5)\n"
      ],
      "metadata": {
        "colab": {
          "base_uri": "https://localhost:8080/"
        },
        "id": "IwTG7Lg8_Z8V",
        "outputId": "5612f9c9-a67a-446a-add7-663e1df27c2e"
      },
      "execution_count": 21,
      "outputs": [
        {
          "output_type": "stream",
          "name": "stdout",
          "text": [
            "Epoch 1/5\n",
            "782/782 [==============================] - 120s 152ms/step - loss: 0.6809 - accuracy: 0.5603 - val_loss: 0.6547 - val_accuracy: 0.6096\n",
            "Epoch 2/5\n",
            "782/782 [==============================] - 91s 117ms/step - loss: 0.4581 - accuracy: 0.7869 - val_loss: 0.4030 - val_accuracy: 0.8274\n",
            "Epoch 3/5\n",
            "782/782 [==============================] - 87s 111ms/step - loss: 0.3264 - accuracy: 0.8679 - val_loss: 0.4955 - val_accuracy: 0.7516\n",
            "Epoch 4/5\n",
            "782/782 [==============================] - 85s 109ms/step - loss: 0.2784 - accuracy: 0.8924 - val_loss: 0.3991 - val_accuracy: 0.8382\n",
            "Epoch 5/5\n",
            "782/782 [==============================] - 87s 111ms/step - loss: 0.2386 - accuracy: 0.9086 - val_loss: 0.3914 - val_accuracy: 0.8352\n"
          ]
        },
        {
          "output_type": "execute_result",
          "data": {
            "text/plain": [
              "<keras.src.callbacks.History at 0x7a96b03e11e0>"
            ]
          },
          "metadata": {},
          "execution_count": 21
        }
      ]
    },
    {
      "cell_type": "code",
      "source": [
        "# simpe RNN with embedding is giving better result(83%) than RNN without Embedding (50%)"
      ],
      "metadata": {
        "id": "0ybpBz6Q_Z-9"
      },
      "execution_count": null,
      "outputs": []
    },
    {
      "cell_type": "markdown",
      "source": [
        "# LSTM Model\n",
        "\n"
      ],
      "metadata": {
        "id": "K6dYcx8G3nSj"
      }
    },
    {
      "cell_type": "code",
      "source": [
        "from keras.layers import LSTM\n",
        "from keras.preprocessing import sequence\n",
        "np.random.seed=117"
      ],
      "metadata": {
        "id": "rNmcVkmM_aBH"
      },
      "execution_count": 22,
      "outputs": []
    },
    {
      "cell_type": "code",
      "source": [
        "top_words=5000\n",
        "(x_train, y_train),(x_test, y_test)=imdb.load_data(num_words=top_words)\n"
      ],
      "metadata": {
        "id": "5VuaevFy_aDR"
      },
      "execution_count": 23,
      "outputs": []
    },
    {
      "cell_type": "code",
      "source": [
        "max(np.max(x_train))\n"
      ],
      "metadata": {
        "colab": {
          "base_uri": "https://localhost:8080/"
        },
        "id": "BNarJ92Z6OcG",
        "outputId": "ca80bf5f-a704-42d9-8407-fa3992020e07"
      },
      "execution_count": 24,
      "outputs": [
        {
          "output_type": "execute_result",
          "data": {
            "text/plain": [
              "4987"
            ]
          },
          "metadata": {},
          "execution_count": 24
        }
      ]
    },
    {
      "cell_type": "code",
      "source": [
        "max(np.max(x_test))\n"
      ],
      "metadata": {
        "colab": {
          "base_uri": "https://localhost:8080/"
        },
        "id": "l09Pz-F_6Wto",
        "outputId": "18028284-b1d4-467b-dc37-15dc58823ca9"
      },
      "execution_count": 25,
      "outputs": [
        {
          "output_type": "execute_result",
          "data": {
            "text/plain": [
              "4998"
            ]
          },
          "metadata": {},
          "execution_count": 25
        }
      ]
    },
    {
      "cell_type": "code",
      "source": [
        "#padding\n",
        "max_review_len=600\n",
        "x_train=pad_sequences(x_train, maxlen=max_review_len)\n",
        "x_test=pad_sequences(x_test,maxlen=max_review_len)"
      ],
      "metadata": {
        "id": "_3K-kdKC6fBm"
      },
      "execution_count": 26,
      "outputs": []
    },
    {
      "cell_type": "code",
      "source": [
        "model2=Sequential()\n",
        "model2.add(Embedding(top_words,32, input_length=600))\n",
        "model2.add(LSTM(100 ))\n",
        "model2.add(Dense(1, activation='sigmoid'))# 33 params\n",
        "model2.summary()\n",
        "#visualkeras.layered_view(model)\n",
        "plot_model(model2)"
      ],
      "metadata": {
        "colab": {
          "base_uri": "https://localhost:8080/",
          "height": 635
        },
        "id": "FuwpZtO07eqC",
        "outputId": "4ffecf14-f661-4fb9-95b3-fc064c85816a"
      },
      "execution_count": 27,
      "outputs": [
        {
          "output_type": "stream",
          "name": "stdout",
          "text": [
            "Model: \"sequential_2\"\n",
            "_________________________________________________________________\n",
            " Layer (type)                Output Shape              Param #   \n",
            "=================================================================\n",
            " embedding_1 (Embedding)     (None, 600, 32)           160000    \n",
            "                                                                 \n",
            " lstm (LSTM)                 (None, 100)               53200     \n",
            "                                                                 \n",
            " dense_2 (Dense)             (None, 1)                 101       \n",
            "                                                                 \n",
            "=================================================================\n",
            "Total params: 213301 (833.21 KB)\n",
            "Trainable params: 213301 (833.21 KB)\n",
            "Non-trainable params: 0 (0.00 Byte)\n",
            "_________________________________________________________________\n"
          ]
        },
        {
          "output_type": "execute_result",
          "data": {
            "image/png": "[encoded data removed]",
            "text/plain": [
              "<IPython.core.display.Image object>"
            ]
          },
          "metadata": {},
          "execution_count": 27
        }
      ]
    },
    {
      "cell_type": "code",
      "source": [
        "model2.compile(optimizer='adam', loss='binary_crossentropy', metrics='accuracy')\n",
        "model2.fit(x_train, y_train, validation_data=(x_test, y_test), epochs=10,batch_size=64)"
      ],
      "metadata": {
        "colab": {
          "base_uri": "https://localhost:8080/"
        },
        "id": "XbAHAMpn7esN",
        "outputId": "cccc9580-ca9d-4fd7-d671-ac28ce20226a"
      },
      "execution_count": 28,
      "outputs": [
        {
          "output_type": "stream",
          "name": "stdout",
          "text": [
            "Epoch 1/10\n",
            "391/391 [==============================] - 70s 170ms/step - loss: 0.4684 - accuracy: 0.7709 - val_loss: 0.3815 - val_accuracy: 0.8408\n",
            "Epoch 2/10\n",
            "391/391 [==============================] - 35s 90ms/step - loss: 0.2970 - accuracy: 0.8820 - val_loss: 0.3232 - val_accuracy: 0.8686\n",
            "Epoch 3/10\n",
            "391/391 [==============================] - 24s 63ms/step - loss: 0.2618 - accuracy: 0.8994 - val_loss: 0.3365 - val_accuracy: 0.8718\n",
            "Epoch 4/10\n",
            "391/391 [==============================] - 21s 53ms/step - loss: 0.2157 - accuracy: 0.9184 - val_loss: 0.3208 - val_accuracy: 0.8724\n",
            "Epoch 5/10\n",
            "391/391 [==============================] - 16s 41ms/step - loss: 0.1903 - accuracy: 0.9284 - val_loss: 0.3523 - val_accuracy: 0.8746\n",
            "Epoch 6/10\n",
            "391/391 [==============================] - 16s 41ms/step - loss: 0.1653 - accuracy: 0.9403 - val_loss: 0.3477 - val_accuracy: 0.8709\n",
            "Epoch 7/10\n",
            "391/391 [==============================] - 19s 48ms/step - loss: 0.1563 - accuracy: 0.9419 - val_loss: 0.3841 - val_accuracy: 0.8708\n",
            "Epoch 8/10\n",
            "391/391 [==============================] - 17s 43ms/step - loss: 0.1420 - accuracy: 0.9472 - val_loss: 0.4260 - val_accuracy: 0.8627\n",
            "Epoch 9/10\n",
            "391/391 [==============================] - 15s 38ms/step - loss: 0.1090 - accuracy: 0.9606 - val_loss: 0.4389 - val_accuracy: 0.8527\n",
            "Epoch 10/10\n",
            "391/391 [==============================] - 16s 42ms/step - loss: 0.1037 - accuracy: 0.9639 - val_loss: 0.4736 - val_accuracy: 0.8628\n"
          ]
        },
        {
          "output_type": "execute_result",
          "data": {
            "text/plain": [
              "<keras.src.callbacks.History at 0x7a96a81af370>"
            ]
          },
          "metadata": {},
          "execution_count": 28
        }
      ]
    },
    {
      "cell_type": "code",
      "source": [],
      "metadata": {
        "id": "JrjZ31F_7euo"
      },
      "execution_count": null,
      "outputs": []
    },
    {
      "cell_type": "markdown",
      "source": [
        "# Bidirectional LSTM"
      ],
      "metadata": {
        "id": "IW4oWZqvI2MA"
      }
    },
    {
      "cell_type": "code",
      "source": [
        "from keras.layers import LSTM,Bidirectional,Dropout\n",
        "from keras.preprocessing import sequence\n",
        "np.random.seed=117"
      ],
      "metadata": {
        "id": "DXCi0rvX7exD"
      },
      "execution_count": 29,
      "outputs": []
    },
    {
      "cell_type": "code",
      "source": [
        "top_words=5000\n",
        "(x_train, y_train),(x_test, y_test)=imdb.load_data(num_words=top_words)\n"
      ],
      "metadata": {
        "id": "5fenFXvN7ezW"
      },
      "execution_count": 30,
      "outputs": []
    },
    {
      "cell_type": "code",
      "source": [
        "\n",
        "\n",
        "max_sequence_len = np.max([len(x) for x in x_train])\n",
        "max_sequence_len"
      ],
      "metadata": {
        "id": "FgSrasXa7e1T",
        "colab": {
          "base_uri": "https://localhost:8080/"
        },
        "outputId": "579949d4-bcbf-4cfd-bd41-b470c12b3ad7"
      },
      "execution_count": 36,
      "outputs": [
        {
          "output_type": "execute_result",
          "data": {
            "text/plain": [
              "600"
            ]
          },
          "metadata": {},
          "execution_count": 36
        }
      ]
    },
    {
      "cell_type": "code",
      "source": [
        "#padding\n",
        "max_review_len=600\n",
        "x_train=pad_sequences(x_train, maxlen=max_review_len)\n",
        "x_test=pad_sequences(x_test,maxlen=max_review_len)"
      ],
      "metadata": {
        "id": "f0z4eglF7e55"
      },
      "execution_count": 38,
      "outputs": []
    },
    {
      "cell_type": "code",
      "source": [
        "model3=Sequential()\n",
        "model3.add(Embedding(top_words,32, input_length=600))\n",
        "model3.add(Bidirectional(LSTM(100)))\n",
        "model3.add(Dropout(0.5))\n",
        "model3.add(Dense(1, activation='sigmoid'))# 33 params\n",
        "model3.summary()\n",
        "#visualkeras.layered_view(model)\n",
        "plot_model(model3)"
      ],
      "metadata": {
        "id": "vFm4ekQ97e8e",
        "colab": {
          "base_uri": "https://localhost:8080/",
          "height": 786
        },
        "outputId": "14e4267e-2920-4735-f44c-a1567c9abe98"
      },
      "execution_count": 39,
      "outputs": [
        {
          "output_type": "stream",
          "name": "stdout",
          "text": [
            "Model: \"sequential_4\"\n",
            "_________________________________________________________________\n",
            " Layer (type)                Output Shape              Param #   \n",
            "=================================================================\n",
            " embedding_3 (Embedding)     (None, 600, 32)           160000    \n",
            "                                                                 \n",
            " bidirectional_1 (Bidirecti  (None, 200)               106400    \n",
            " onal)                                                           \n",
            "                                                                 \n",
            " dropout_1 (Dropout)         (None, 200)               0         \n",
            "                                                                 \n",
            " dense_4 (Dense)             (None, 1)                 201       \n",
            "                                                                 \n",
            "=================================================================\n",
            "Total params: 266601 (1.02 MB)\n",
            "Trainable params: 266601 (1.02 MB)\n",
            "Non-trainable params: 0 (0.00 Byte)\n",
            "_________________________________________________________________\n"
          ]
        },
        {
          "output_type": "execute_result",
          "data": {
            "image/png": "[encoded data removed]",
            "text/plain": [
              "<IPython.core.display.Image object>"
            ]
          },
          "metadata": {},
          "execution_count": 39
        }
      ]
    },
    {
      "cell_type": "code",
      "source": [
        "model3.compile(optimizer='adam', loss='binary_crossentropy', metrics='accuracy')\n",
        "model3.fit(x_train, y_train, validation_data=(x_test, y_test), epochs=10,batch_size=64)"
      ],
      "metadata": {
        "id": "N8FQ5hdK7e_4",
        "colab": {
          "base_uri": "https://localhost:8080/"
        },
        "outputId": "e10d520d-09e3-4445-bfed-dff4fdf86962"
      },
      "execution_count": 40,
      "outputs": [
        {
          "output_type": "stream",
          "name": "stdout",
          "text": [
            "Epoch 1/10\n",
            "391/391 [==============================] - 64s 153ms/step - loss: 0.4892 - accuracy: 0.7584 - val_loss: 0.3600 - val_accuracy: 0.8458\n",
            "Epoch 2/10\n",
            "391/391 [==============================] - 41s 104ms/step - loss: 0.3010 - accuracy: 0.8803 - val_loss: 0.3041 - val_accuracy: 0.8746\n",
            "Epoch 3/10\n",
            "391/391 [==============================] - 34s 87ms/step - loss: 0.2733 - accuracy: 0.8919 - val_loss: 0.3133 - val_accuracy: 0.8729\n",
            "Epoch 4/10\n",
            "391/391 [==============================] - 28s 73ms/step - loss: 0.2915 - accuracy: 0.8834 - val_loss: 0.3314 - val_accuracy: 0.8659\n",
            "Epoch 5/10\n",
            "391/391 [==============================] - 31s 79ms/step - loss: 0.2375 - accuracy: 0.9103 - val_loss: 0.3135 - val_accuracy: 0.8720\n",
            "Epoch 6/10\n",
            "391/391 [==============================] - 27s 69ms/step - loss: 0.1978 - accuracy: 0.9271 - val_loss: 0.3575 - val_accuracy: 0.8536\n",
            "Epoch 7/10\n",
            "391/391 [==============================] - 26s 67ms/step - loss: 0.1877 - accuracy: 0.9281 - val_loss: 0.3580 - val_accuracy: 0.8742\n",
            "Epoch 8/10\n",
            "391/391 [==============================] - 26s 65ms/step - loss: 0.1573 - accuracy: 0.9429 - val_loss: 0.3698 - val_accuracy: 0.8674\n",
            "Epoch 9/10\n",
            "391/391 [==============================] - 29s 74ms/step - loss: 0.1408 - accuracy: 0.9504 - val_loss: 0.3886 - val_accuracy: 0.8608\n",
            "Epoch 10/10\n",
            "391/391 [==============================] - 25s 64ms/step - loss: 0.1321 - accuracy: 0.9519 - val_loss: 0.4161 - val_accuracy: 0.8465\n"
          ]
        },
        {
          "output_type": "execute_result",
          "data": {
            "text/plain": [
              "<keras.src.callbacks.History at 0x7a96107fa800>"
            ]
          },
          "metadata": {},
          "execution_count": 40
        }
      ]
    },
    {
      "cell_type": "code",
      "source": [],
      "metadata": {
        "id": "2KrN7x7UFnIV"
      },
      "execution_count": 40,
      "outputs": []
    },
    {
      "cell_type": "code",
      "source": [
        "from sklearn.metrics import accuracy_score\n",
        "y_pred=model3.predict(x_test)>0.5\n",
        "print(y_pred, y_test)\n",
        "print(\"Accuracy of prediction on test set : \", accuracy_score(y_test,y_pred))\n"
      ],
      "metadata": {
        "colab": {
          "base_uri": "https://localhost:8080/"
        },
        "id": "uhrIVeXD0Shb",
        "outputId": "d6f9ac08-8e87-4713-d215-2b5aff098f75"
      },
      "execution_count": 64,
      "outputs": [
        {
          "output_type": "stream",
          "name": "stdout",
          "text": [
            "782/782 [==============================] - 12s 16ms/step\n",
            "[[False]\n",
            " [ True]\n",
            " [False]\n",
            " ...\n",
            " [False]\n",
            " [False]\n",
            " [ True]] [0 1 1 ... 0 0 0]\n",
            "Accuracy of prediction on test set :  0.84652\n"
          ]
        }
      ]
    },
    {
      "cell_type": "code",
      "source": [
        "true_classifications = 0\n",
        "for i, y in enumerate(y_test):\n",
        "    if y == y_pred[i]:\n",
        "        true_classifications += 1\n",
        "\n",
        "print('Correct Prediction: {}'.format(true_classifications))\n",
        "print('Wrong Prediction: {}'.format(len(y_pred) - true_classifications))\n"
      ],
      "metadata": {
        "colab": {
          "base_uri": "https://localhost:8080/"
        },
        "id": "AKi80Xdq6tX-",
        "outputId": "8aafec0a-642c-4840-f966-778f7d6740ac"
      },
      "execution_count": 65,
      "outputs": [
        {
          "output_type": "stream",
          "name": "stdout",
          "text": [
            "Correct Prediction: 21163\n",
            "Wrong Prediction: 3837\n"
          ]
        }
      ]
    },
    {
      "cell_type": "markdown",
      "source": [
        "**Observation**\n",
        "\n",
        "we see that birdirectional LSTM gives very good accuracy of 86.5% after 10 epochs.  "
      ],
      "metadata": {
        "id": "ytcrGy_bFopj"
      }
    },
    {
      "cell_type": "code",
      "source": [],
      "metadata": {
        "id": "00U3XBCmGmX7"
      },
      "execution_count": null,
      "outputs": []
    }
  ]
}